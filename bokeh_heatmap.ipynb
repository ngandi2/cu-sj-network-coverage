{
 "cells": [
  {
   "cell_type": "code",
   "execution_count": 2,
   "id": "meaning-appeal",
   "metadata": {},
   "outputs": [],
   "source": [
    "from bokeh.io import output_file, show\n",
    "from bokeh.models import ColumnDataSource, GMapOptions, HoverTool, ColorBar, LinearColorMapper\n",
    "from bokeh.palettes import Plasma5\n",
    "from bokeh.plotting import gmap\n",
    "from bokeh.transform import linear_cmap\n",
    "import numpy as np\n",
    "import pandas as pd\n",
    "from scipy.special import logsumexp"
   ]
  },
  {
   "cell_type": "code",
   "execution_count": 3,
   "id": "approximate-somerset",
   "metadata": {},
   "outputs": [],
   "source": [
    "# use this api key: https://developers.google.com/maps/documentation/javascript/overview\n",
    "google_maps_javascript_api_key = \"\"\n",
    "# load pandas dataframes from csv files\n",
    "# the uiuc csv files have the following columns: 'Timestamp', 'Lat', 'Lon', 'Download_Speed', 'Download_Size', 'Upload_Speed', 'Upload_Size', 'Latency', 'Server', 'InternalIp', 'ExternalIp', 'URL', 'Signal_Strength'\n",
    "# the important ones are 'Timestamp', 'Lat', 'Lon', 'Download_Speed', 'Upload_Speed', 'Signal_Strength'\n",
    "uiuc_wifi_df = pd.read_csv('cu-data/wifi_df.csv')\n",
    "uiuc_nr_df = pd.read_csv('cu-data/nr_df.csv')\n",
    "milpitas_nr_df = pd.read_csv('milpitas-data/5g_signal_3.csv')\n",
    "# centers of maps in the format (latitude, longitude)\n",
    "milpitas_coords = (37.416282, -121.916936)\n",
    "uiuc_coords = (40.10785745655508, -88.22609411700863)"
   ]
  },
  {
   "cell_type": "code",
   "execution_count": 4,
   "id": "noted-vegetarian",
   "metadata": {},
   "outputs": [],
   "source": [
    "output_file(\"gmap.html\")"
   ]
  },
  {
   "cell_type": "code",
   "execution_count": 5,
   "id": "stone-powder",
   "metadata": {},
   "outputs": [],
   "source": [
    "def plot_data(df, column_name, latitude, longitude, graph_title):\n",
    "    map_options = GMapOptions(lat = latitude, lng = longitude, map_type = \"roadmap\", zoom = 15)\n",
    "    data_map = gmap(google_maps_javascript_api_key, map_options, title = graph_title)\n",
    "    source = ColumnDataSource(data = df)\n",
    "    color_mapper = linear_cmap(field_name = column_name, palette = Plasma5, low = df[column_name].min(), high = df[column_name].max())\n",
    "    tooltips = [(\"Signal Strength (dBm)\", \"@Signal_Strength\"), (\"Download Speed (Mbps)\", \"@Download_Speed\"), (\"Upload Speed (Mbps)\", \"@Upload_Speed\")]\n",
    "    data_map.add_tools(HoverTool(tooltips = tooltips))\n",
    "    data_map.circle(x = \"Lon\", y = \"Lat\", color = color_mapper, fill_alpha = 0.6, size = 25, source = source)\n",
    "    color_bar = ColorBar(color_mapper = color_mapper['transform'], label_standoff = 10, border_line_color = None, location = (0,0))\n",
    "    data_map.add_layout(color_bar, 'right')\n",
    "    show(data_map)"
   ]
  },
  {
   "cell_type": "code",
   "execution_count": 97,
   "id": "decent-fossil",
   "metadata": {},
   "outputs": [],
   "source": [
    "plot_data(uiuc_wifi_df, 'Download_Speed', uiuc_coords[0], uiuc_coords[1], \"Champaign-Urbana Campustown IllinoisNet Download Speeds (Mbps)\")"
   ]
  },
  {
   "cell_type": "code",
   "execution_count": 98,
   "id": "bored-rouge",
   "metadata": {},
   "outputs": [],
   "source": [
    "plot_data(uiuc_wifi_df, 'Signal_Strength', uiuc_coords[0], uiuc_coords[1], \"Champaign-Urbana Campustown IllinoisNet Signal Strengths (dBm)\")"
   ]
  },
  {
   "cell_type": "code",
   "execution_count": 99,
   "id": "upset-brain",
   "metadata": {},
   "outputs": [],
   "source": [
    "plot_data(uiuc_nr_df, 'Download_Speed', uiuc_coords[0], uiuc_coords[1], \"Champaign-Urbana Campustown 5G NR Download Speeds (Mbps)\")"
   ]
  },
  {
   "cell_type": "code",
   "execution_count": 100,
   "id": "presidential-heath",
   "metadata": {},
   "outputs": [],
   "source": [
    "plot_data(uiuc_nr_df, 'Signal_Strength', uiuc_coords[0], uiuc_coords[1], \"Champaign-Urbana Campustown 5G NR Signal Strengths (dBm)\")"
   ]
  },
  {
   "cell_type": "code",
   "execution_count": 101,
   "id": "practical-syndication",
   "metadata": {},
   "outputs": [],
   "source": [
    "plot_data(milpitas_nr_df, 'Download_Speed', milpitas_coords[0], milpitas_coords[1], \"Milpitas Area 5G NR Download Speeds (Mbps)\")"
   ]
  },
  {
   "cell_type": "code",
   "execution_count": 102,
   "id": "distinguished-comparison",
   "metadata": {},
   "outputs": [],
   "source": [
    "plot_data(milpitas_nr_df, 'Signal_Strength', milpitas_coords[0], milpitas_coords[1], \"Milpitas Area 5G NR Signal Strengths (dBm)\")"
   ]
  },
  {
   "cell_type": "code",
   "execution_count": 6,
   "id": "animated-handy",
   "metadata": {},
   "outputs": [
    {
     "name": "stdout",
     "output_type": "stream",
     "text": [
      "356.9775510204082\n",
      "288.11434604651157\n",
      "105.05001141333332\n"
     ]
    }
   ],
   "source": [
    "print(milpitas_nr_df['Download_Speed'].mean())\n",
    "print(uiuc_nr_df['Download_Speed'].mean())\n",
    "print(uiuc_wifi_df['Download_Speed'].mean())"
   ]
  },
  {
   "cell_type": "code",
   "execution_count": 7,
   "id": "saving-kelly",
   "metadata": {},
   "outputs": [
    {
     "name": "stdout",
     "output_type": "stream",
     "text": [
      "616.0\n",
      "605.376704\n",
      "270.659592\n"
     ]
    }
   ],
   "source": [
    "print(milpitas_nr_df['Download_Speed'].max())\n",
    "print(uiuc_nr_df['Download_Speed'].max())\n",
    "print(uiuc_wifi_df['Download_Speed'].max())"
   ]
  },
  {
   "cell_type": "code",
   "execution_count": 8,
   "id": "religious-newport",
   "metadata": {},
   "outputs": [
    {
     "name": "stdout",
     "output_type": "stream",
     "text": [
      "-77.90183264337713\n",
      "-86.02051432820835\n",
      "-43.42140117302166\n"
     ]
    }
   ],
   "source": [
    "# calculate dbm averages\n",
    "print(logsumexp(milpitas_nr_df['Signal_Strength']) - 10 * np.log10(len(milpitas_nr_df['Signal_Strength'])))\n",
    "print(logsumexp(uiuc_nr_df['Signal_Strength'])- 10 * np.log10(len(uiuc_nr_df['Signal_Strength'])))\n",
    "print(logsumexp(uiuc_wifi_df['Signal_Strength'])- 10 * np.log10(len(uiuc_wifi_df['Signal_Strength'])))"
   ]
  },
  {
   "cell_type": "code",
   "execution_count": 12,
   "id": "active-lexington",
   "metadata": {},
   "outputs": [
    {
     "data": {
      "text/plain": [
       "75"
      ]
     },
     "execution_count": 12,
     "metadata": {},
     "output_type": "execute_result"
    }
   ],
   "source": [
    "len(uiuc_wifi_df['Signal_Strength'])"
   ]
  },
  {
   "cell_type": "code",
   "execution_count": 10,
   "id": "opposed-lawyer",
   "metadata": {
    "scrolled": true
   },
   "outputs": [
    {
     "name": "stdout",
     "output_type": "stream",
     "text": [
      "74.78979591836735\n",
      "34.558380372093005\n",
      "140.44706464\n"
     ]
    }
   ],
   "source": [
    "print(milpitas_nr_df['Upload_Speed'].mean())\n",
    "print(uiuc_nr_df['Upload_Speed'].mean())\n",
    "print(uiuc_wifi_df['Upload_Speed'].mean())"
   ]
  },
  {
   "cell_type": "code",
   "execution_count": null,
   "id": "raised-vietnamese",
   "metadata": {},
   "outputs": [],
   "source": []
  }
 ],
 "metadata": {
  "kernelspec": {
   "display_name": "Python 3",
   "language": "python",
   "name": "python3"
  },
  "language_info": {
   "codemirror_mode": {
    "name": "ipython",
    "version": 3
   },
   "file_extension": ".py",
   "mimetype": "text/x-python",
   "name": "python",
   "nbconvert_exporter": "python",
   "pygments_lexer": "ipython3",
   "version": "3.7.9"
  }
 },
 "nbformat": 4,
 "nbformat_minor": 5
}
