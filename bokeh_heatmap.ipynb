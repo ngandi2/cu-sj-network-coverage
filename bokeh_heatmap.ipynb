{
 "cells": [
  {
   "cell_type": "code",
   "execution_count": null,
   "id": "meaning-appeal",
   "metadata": {},
   "outputs": [],
   "source": [
    "from bokeh.io import output_file, show\n",
    "from bokeh.models import ColumnDataSource, GMapOptions, HoverTool, ColorBar, LinearColorMapper\n",
    "from bokeh.palettes import all_palettes, Plasma5\n",
    "from bokeh.plotting import gmap\n",
    "from bokeh.transform import linear_cmap\n",
    "import numpy as np\n",
    "import pandas as pd"
   ]
  },
  {
   "cell_type": "code",
   "execution_count": null,
   "id": "approximate-somerset",
   "metadata": {},
   "outputs": [],
   "source": [
    "df = pd.read_csv('cu-data/wifi_df.csv')\n",
    "# csv file with the following columns: 'Timestamp', 'Lat', 'Lon', 'Download_Speed', 'Download_Size', 'Upload_Speed', 'Upload_Size', 'Latency', 'Server', 'InternalIp', 'ExternalIp', 'URL', 'Signal_Strength'\n",
    "# the important ones are 'Timestamp', 'Lat', 'Lon', 'Download_Speed', 'Upload_Speed', 'Signal_Strength'\n",
    "print(df) "
   ]
  },
  {
   "cell_type": "code",
   "execution_count": null,
   "id": "noted-vegetarian",
   "metadata": {},
   "outputs": [],
   "source": [
    "output_file(\"gmap.html\")"
   ]
  },
  {
   "cell_type": "code",
   "execution_count": null,
   "id": "virtual-eclipse",
   "metadata": {},
   "outputs": [],
   "source": [
    "map_options = GMapOptions(lat=40.104821, lng=-88.227228, map_type=\"roadmap\", zoom=15)"
   ]
  },
  {
   "cell_type": "code",
   "execution_count": null,
   "id": "outstanding-flour",
   "metadata": {},
   "outputs": [],
   "source": [
    "# use this api key: https://developers.google.com/maps/documentation/javascript/overview\n",
    "google_maps_javascript_api_key = \"\"\n",
    "p = gmap(google_maps_javascript_api_key, map_options, title=\"Champaign-Urbana Campustown\")"
   ]
  },
  {
   "cell_type": "code",
   "execution_count": null,
   "id": "automatic-delivery",
   "metadata": {},
   "outputs": [],
   "source": [
    "factors = df['Signal_Strength'].unique().tolist()\n",
    "len(factors)"
   ]
  },
  {
   "cell_type": "code",
   "execution_count": null,
   "id": "controlled-bruce",
   "metadata": {
    "scrolled": true
   },
   "outputs": [],
   "source": [
    "source = ColumnDataSource(data=df)\n",
    "\n",
    "# color_mapper = linear_cmap(field_name = 'Download_Speed', palette = Plasma5, low = df['Download_Speed'].min(), high = df['Download_Speed'].max())\n",
    "# tooltips = [(\"WiFi Signal Strength (dBm)\",\"@Signal_Strength\"), (\"Download Speed (Mbps)\",\"@Download_Speed\"),(\"Upload Speed (Mbps)\",\"@Upload_Speed\")]\n",
    "color_mapper = linear_cmap(field_name = 'Signal_Strength', palette = Plasma5, low = df['Signal_Strength'].min(), high = df['Signal_Strength'].max())\n",
    "tooltips = [(\"5G Signal Strength (dBm)\",\"@Signal_Strength\")]\n",
    "\n",
    "p.add_tools(HoverTool(tooltips=tooltips))\n",
    "\n",
    "p.circle(x=\"Lon\", y=\"Lat\", color = color_mapper, fill_alpha=0.6, size = 25, source=source)\n",
    "color_bar = ColorBar(color_mapper=color_mapper['transform'], label_standoff = 10, border_line_color=None, location=(0,0))\n",
    "p.add_layout(color_bar, 'right')"
   ]
  },
  {
   "cell_type": "code",
   "execution_count": null,
   "id": "welcome-johns",
   "metadata": {},
   "outputs": [],
   "source": [
    "show(p)"
   ]
  },
  {
   "cell_type": "code",
   "execution_count": null,
   "id": "manual-address",
   "metadata": {},
   "outputs": [],
   "source": []
  }
 ],
 "metadata": {
  "kernelspec": {
   "display_name": "Python 3",
   "language": "python",
   "name": "python3"
  },
  "language_info": {
   "codemirror_mode": {
    "name": "ipython",
    "version": 3
   },
   "file_extension": ".py",
   "mimetype": "text/x-python",
   "name": "python",
   "nbconvert_exporter": "python",
   "pygments_lexer": "ipython3",
   "version": "3.7.9"
  }
 },
 "nbformat": 4,
 "nbformat_minor": 5
}
